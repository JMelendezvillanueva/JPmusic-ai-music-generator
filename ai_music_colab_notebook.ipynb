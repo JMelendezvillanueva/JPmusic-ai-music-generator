{
  "nbformat": 4,
  "nbformat_minor": 0,
  "metadata": {
    "colab": {
      "provenance": [],
      "gpuType": "T4",
      "authorship_tag": "ABX9TyOZELSfLR+knuSwT4numyZG",
      "include_colab_link": true
    },
    "kernelspec": {
      "name": "python3",
      "display_name": "Python 3"
    },
    "language_info": {
      "name": "python"
    },
    "accelerator": "GPU"
  },
  "cells": [
    {
      "cell_type": "markdown",
      "metadata": {
        "id": "view-in-github",
        "colab_type": "text"
      },
      "source": [
        "<a href=\"https://colab.research.google.com/github/JMelendezvillanueva/JPmusic-ai-music-generator/blob/main/ai_music_colab_notebook.ipynb\" target=\"_parent\"><img src=\"https://colab.research.google.com/assets/colab-badge.svg\" alt=\"Open In Colab\"/></a>"
      ]
    },
    {
      "cell_type": "code",
      "source": [
        "!pip install -q audiocraft flask flask_cors torchaudio pyngrok\n"
      ],
      "metadata": {
        "id": "oEkiXnL2TYYj"
      },
      "execution_count": null,
      "outputs": []
    },
    {
      "cell_type": "code",
      "source": [
        "from flask import Flask, request, send_file\n",
        "from flask_cors import CORS\n",
        "from audiocraft.models import MusicGen\n",
        "import torchaudio\n",
        "\n",
        "app = Flask(__name__)\n",
        "CORS(app)\n",
        "\n",
        "# Load model once\n",
        "model = MusicGen.get_pretrained('facebook/musicgen-small')\n",
        "\n",
        "@app.route(\"/generate\", methods=[\"POST\"])\n",
        "def generate_music():\n",
        "    data = request.json\n",
        "    prompt = data.get(\"prompt\", \"A cinematic symphony with electric guitars\")\n",
        "    duration = int(data.get(\"duration\", 10))\n",
        "    model.set_generation_params(duration=duration)\n",
        "    wav = model.generate([prompt])\n",
        "    torchaudio.save(\"generated.wav\", wav[0].cpu(), sample_rate=32000)\n",
        "    return send_file(\"generated.wav\", as_attachment=True)\n"
      ],
      "metadata": {
        "colab": {
          "base_uri": "https://localhost:8080/"
        },
        "id": "8SaflVYSTZzu",
        "outputId": "b7d2d6ee-8c97-4ca2-a5f5-246c54773e2d"
      },
      "execution_count": null,
      "outputs": [
        {
          "output_type": "stream",
          "name": "stderr",
          "text": [
            "/usr/local/lib/python3.11/dist-packages/huggingface_hub/utils/_auth.py:94: UserWarning: \n",
            "The secret `HF_TOKEN` does not exist in your Colab secrets.\n",
            "To authenticate with the Hugging Face Hub, create a token in your settings tab (https://huggingface.co/settings/tokens), set it as secret in your Google Colab and restart your session.\n",
            "You will be able to reuse this secret in all of your notebooks.\n",
            "Please note that authentication is recommended but still optional to access public models or datasets.\n",
            "  warnings.warn(\n",
            "/usr/local/lib/python3.11/dist-packages/torch/nn/utils/weight_norm.py:30: UserWarning: torch.nn.utils.weight_norm is deprecated in favor of torch.nn.utils.parametrizations.weight_norm.\n",
            "  warnings.warn(\"torch.nn.utils.weight_norm is deprecated in favor of torch.nn.utils.parametrizations.weight_norm.\")\n"
          ]
        }
      ]
    },
    {
      "cell_type": "code",
      "source": [
        "from pyngrok import ngrok\n",
        "\n",
        "ngrok.set_auth_token(\"2xHlYixZrW6cEVelIHzf3qc5iPf_4n487FrfQCqv8kf8FyYxx\")  # Replace this!\n",
        "public_url = ngrok.connect(5000)\n",
        "print(f\"🎧 Your public ngrok URL: {public_url}\")\n"
      ],
      "metadata": {
        "colab": {
          "base_uri": "https://localhost:8080/"
        },
        "id": "H9JW152HTbj9",
        "outputId": "d997d8f3-9233-491c-ee92-8f159a81911a"
      },
      "execution_count": null,
      "outputs": [
        {
          "output_type": "stream",
          "name": "stdout",
          "text": [
            "🎧 Your public ngrok URL: NgrokTunnel: \"https://6ab1-34-125-250-202.ngrok-free.app\" -> \"http://localhost:5000\"\n"
          ]
        }
      ]
    },
    {
      "cell_type": "code",
      "source": [
        "import threading\n",
        "\n",
        "def run_flask():\n",
        "    app.run(port=5000)\n",
        "\n",
        "thread = threading.Thread(target=run_flask)\n",
        "thread.start()\n"
      ],
      "metadata": {
        "colab": {
          "base_uri": "https://localhost:8080/"
        },
        "id": "b_5ljJWYTePG",
        "outputId": "e4a53e88-1b7a-4d46-dad4-83c01352bb7f"
      },
      "execution_count": null,
      "outputs": [
        {
          "output_type": "stream",
          "name": "stdout",
          "text": [
            " * Serving Flask app '__main__'\n",
            " * Debug mode: off\n"
          ]
        }
      ]
    }
  ]
}